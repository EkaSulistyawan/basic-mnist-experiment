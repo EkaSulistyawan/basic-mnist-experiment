{
  "nbformat": 4,
  "nbformat_minor": 0,
  "metadata": {
    "colab": {
      "provenance": [],
      "authorship_tag": "ABX9TyNAng68WUbwozAM1NJlT7TY",
      "include_colab_link": true
    },
    "kernelspec": {
      "display_name": "Python 3",
      "name": "python3"
    },
    "language_info": {
      "name": "python"
    },
    "accelerator": "GPU"
  },
  "cells": [
    {
      "cell_type": "markdown",
      "metadata": {
        "id": "view-in-github",
        "colab_type": "text"
      },
      "source": [
        "<a href=\"https://colab.research.google.com/github/EkaSulistyawan/basic-mnist-experiment/blob/main/assignment1.ipynb\" target=\"_parent\"><img src=\"https://colab.research.google.com/assets/colab-badge.svg\" alt=\"Open In Colab\"/></a>"
      ]
    },
    {
      "cell_type": "markdown",
      "metadata": {
        "id": "nrZtAVp_yl8x"
      },
      "source": [
        "# Assignment 1\n",
        "- I Gede Eka Sulistyawan\n",
        "- C1WM9001"
      ]
    },
    {
      "cell_type": "code",
      "metadata": {
        "id": "0RFRwaVh41vg"
      },
      "source": [
        "#####################################################\n",
        "### --- We modify the dataloader in this block ---###\n",
        "#####################################################\n",
        "\n",
        "from __future__ import print_function\n",
        "import torchvision.datasets.vision as vision\n",
        "import warnings\n",
        "from PIL import Image\n",
        "import os\n",
        "import os.path\n",
        "import random\n",
        "import numpy as np\n",
        "import torch\n",
        "import codecs\n",
        "# from torchvision.datasets.utils import download_url, download_and_extract_archive,   extract_archive, \\\n",
        "#    makedir_exist_ok, verify_str_arg\n",
        "from torchvision.datasets.utils import download_url, download_and_extract_archive, extract_archive, \\\n",
        "    verify_str_arg\n",
        "\n",
        "# This class is copied from torchvision.datasets.MNIST\n",
        "class MyMNIST(vision.VisionDataset):\n",
        "\n",
        "    def __init__(self, root, train=True, transform=None, target_transform=None,\n",
        "                 download=False, limit_data=None):\n",
        "        super(MyMNIST, self).__init__(root, transform=transform,\n",
        "                                    target_transform=target_transform)\n",
        "        self.train = train  # training set or test set\n",
        "\n",
        "        # ------- We can ingore this block -------\n",
        "        if download:\n",
        "            self.download()\n",
        "\n",
        "        if not self._check_exists():\n",
        "            raise RuntimeError('Dataset not found.' +\n",
        "                               ' You can use download=True to download it')\n",
        "        if self.train:\n",
        "            data_file = self.training_file\n",
        "        else:\n",
        "            data_file = self.test_file\n",
        "        # -----------------------------------------------\n",
        "\n",
        "        # We change the lines below; these specify how the data are loaded.\n",
        "        # self.data contain images (type 'torch.Tensor' of [num_images, H, W])\n",
        "        # self.targets contain labels (class ids) (type 'torch.Tensor' of [num_images])\n",
        "        # images and labels are stored in the same\n",
        "        self.data, self.targets = torch.load(os.path.join(self.processed_folder, data_file))\n",
        "\n",
        "        # We use only the images and lables whose indeces are in the range of 0..limit_data-1.\n",
        "        if not limit_data is None:\n",
        "          self.data    = self.data[   :limit_data, :,:]\n",
        "          self.targets = self.targets[:limit_data]\n",
        "          if self.train:\n",
        "            print(\"[WRN]: Training Data is limited, only the first \"+str(self.data.size(0))+\" samples will be used.\")\n",
        "          else:\n",
        "            print(\"[WRN]: Test Data is limited, only the first \"   +str(self.data.size(0))+\" samples will be used.\")\n",
        "\n",
        "\n",
        "    def __getitem__(self, index):\n",
        "        # We extract the image and label of the specified 'index'.\n",
        "        img, target = self.data[index], int(self.targets[index])\n",
        "\n",
        "        # Prepare for self.transform below.\n",
        "        img = Image.fromarray(img.numpy(), mode='L')\n",
        "\n",
        "        # Transform img.\n",
        "        if self.transform is not None:\n",
        "            img = self.transform(img)\n",
        "\n",
        "        return img, target\n",
        "\n",
        "    def __len__(self):\n",
        "        return len(self.data)\n",
        "\n",
        "\n",
        "# ---------------------- We just leave the code from here as original -----------------\n",
        "    \"\"\"`MNIST <http://yann.lecun.com/exdb/mnist/>`_ Dataset.\n",
        "\n",
        "    Args:\n",
        "        root (string): Root directory of dataset where ``MNIST/processed/training.pt``\n",
        "            and  ``MNIST/processed/test.pt`` exist.\n",
        "        train (bool, optional): If True, creates dataset from ``training.pt``,\n",
        "            otherwise from ``test.pt``.\n",
        "        download (bool, optional): If true, downloads the dataset from the internet and\n",
        "            puts it in root directory. If dataset is already downloaded, it is not\n",
        "            downloaded again.\n",
        "        transform (callable, optional): A function/transform that  takes in an PIL image\n",
        "            and returns a transformed version. E.g, ``transforms.RandomCrop``\n",
        "        target_transform (callable, optional): A function/transform that takes in the\n",
        "            target and transforms it.\n",
        "    \"\"\"\n",
        "\n",
        "    urls = [\n",
        "        'http://yann.lecun.com/exdb/mnist/train-images-idx3-ubyte.gz',\n",
        "        'http://yann.lecun.com/exdb/mnist/train-labels-idx1-ubyte.gz',\n",
        "        'http://yann.lecun.com/exdb/mnist/t10k-images-idx3-ubyte.gz',\n",
        "        'http://yann.lecun.com/exdb/mnist/t10k-labels-idx1-ubyte.gz',\n",
        "    ]\n",
        "    training_file = 'training.pt'\n",
        "    test_file = 'test.pt'\n",
        "    classes = ['0 - zero', '1 - one', '2 - two', '3 - three', '4 - four',\n",
        "               '5 - five', '6 - six', '7 - seven', '8 - eight', '9 - nine']\n",
        "\n",
        "    @property\n",
        "    def train_labels(self):\n",
        "        warnings.warn(\"train_labels has been renamed targets\")\n",
        "        return self.targets\n",
        "\n",
        "    @property\n",
        "    def test_labels(self):\n",
        "        warnings.warn(\"test_labels has been renamed targets\")\n",
        "        return self.targets\n",
        "\n",
        "    @property\n",
        "    def train_data(self):\n",
        "        warnings.warn(\"train_data has been renamed data\")\n",
        "        return self.data\n",
        "\n",
        "    @property\n",
        "    def test_data(self):\n",
        "        warnings.warn(\"test_data has been renamed data\")\n",
        "        return self.data\n",
        "\n",
        "    @property\n",
        "    def raw_folder(self):\n",
        "        return os.path.join(self.root, self.__class__.__name__, 'raw')\n",
        "\n",
        "    @property\n",
        "    def processed_folder(self):\n",
        "        return os.path.join(self.root, self.__class__.__name__, 'processed')\n",
        "\n",
        "    @property\n",
        "    def class_to_idx(self):\n",
        "        return {_class: i for i, _class in enumerate(self.classes)}\n",
        "\n",
        "    def _check_exists(self):\n",
        "        return (os.path.exists(os.path.join(self.processed_folder,\n",
        "                                            self.training_file)) and\n",
        "                os.path.exists(os.path.join(self.processed_folder,\n",
        "                                            self.test_file)))\n",
        "\n",
        "    def download(self):\n",
        "        \"\"\"Download the MNIST data if it doesn't exist in processed_folder already.\"\"\"\n",
        "\n",
        "        if self._check_exists():\n",
        "            return\n",
        "\n",
        "        # makedir_exist_ok(self.raw_folder)\n",
        "        # makedir_exist_ok(self.processed_folder)\n",
        "        os.makedirs(self.raw_folder, exist_ok=True)\n",
        "        os.makedirs(self.processed_folder, exist_ok=True)\n",
        "\n",
        "        # download files\n",
        "        for url in self.urls:\n",
        "            filename = url.rpartition('/')[2]\n",
        "            download_and_extract_archive(url, download_root=self.raw_folder, filename=filename)\n",
        "\n",
        "        # process and save as torch files\n",
        "        print('Processing...')\n",
        "\n",
        "        training_set = (\n",
        "            read_image_file(os.path.join(self.raw_folder, 'train-images-idx3-ubyte')),\n",
        "            read_label_file(os.path.join(self.raw_folder, 'train-labels-idx1-ubyte'))\n",
        "        )\n",
        "        test_set = (\n",
        "            read_image_file(os.path.join(self.raw_folder, 't10k-images-idx3-ubyte')),\n",
        "            read_label_file(os.path.join(self.raw_folder, 't10k-labels-idx1-ubyte'))\n",
        "        )\n",
        "        with open(os.path.join(self.processed_folder, self.training_file), 'wb') as f:\n",
        "            torch.save(training_set, f)\n",
        "        with open(os.path.join(self.processed_folder, self.test_file), 'wb') as f:\n",
        "            torch.save(test_set, f)\n",
        "\n",
        "        print('Done!')\n",
        "\n",
        "    def extra_repr(self):\n",
        "        return \"Split: {}\".format(\"Train\" if self.train is True else \"Test\")\n",
        "\n",
        "def read_label_file(path):\n",
        "    with open(path, 'rb') as f:\n",
        "        x = read_sn3_pascalvincent_tensor(f, strict=False)\n",
        "    assert(x.dtype == torch.uint8)\n",
        "    assert(x.ndimension() == 1)\n",
        "    return x.long()\n",
        "\n",
        "\n",
        "def read_image_file(path):\n",
        "    with open(path, 'rb') as f:\n",
        "        x = read_sn3_pascalvincent_tensor(f, strict=False)\n",
        "    assert(x.dtype == torch.uint8)\n",
        "    assert(x.ndimension() == 3)\n",
        "    return x\n",
        "\n",
        "def get_int(b):\n",
        "    return int(codecs.encode(b, 'hex'), 16)\n",
        "\n",
        "\n",
        "def open_maybe_compressed_file(path):\n",
        "    \"\"\"Return a file object that possibly decompresses 'path' on the fly.\n",
        "       Decompression occurs when argument `path` is a string and ends with '.gz' or '.xz'.\n",
        "    \"\"\"\n",
        "    if not isinstance(path, torch._six.string_classes):\n",
        "        return path\n",
        "    if path.endswith('.gz'):\n",
        "        import gzip\n",
        "        return gzip.open(path, 'rb')\n",
        "    if path.endswith('.xz'):\n",
        "        import lzma\n",
        "        return lzma.open(path, 'rb')\n",
        "    return open(path, 'rb')\n",
        "\n",
        "\n",
        "def read_sn3_pascalvincent_tensor(path, strict=True):\n",
        "    \"\"\"Read a SN3 file in \"Pascal Vincent\" format (Lush file 'libidx/idx-io.lsh').\n",
        "       Argument may be a filename, compressed filename, or file object.\n",
        "    \"\"\"\n",
        "    # typemap\n",
        "    if not hasattr(read_sn3_pascalvincent_tensor, 'typemap'):\n",
        "        read_sn3_pascalvincent_tensor.typemap = {\n",
        "            8: (torch.uint8, np.uint8, np.uint8),\n",
        "            9: (torch.int8, np.int8, np.int8),\n",
        "            11: (torch.int16, np.dtype('>i2'), 'i2'),\n",
        "            12: (torch.int32, np.dtype('>i4'), 'i4'),\n",
        "            13: (torch.float32, np.dtype('>f4'), 'f4'),\n",
        "            14: (torch.float64, np.dtype('>f8'), 'f8')}\n",
        "    # read\n",
        "    with open_maybe_compressed_file(path) as f:\n",
        "        data = f.read()\n",
        "    # parse\n",
        "    magic = get_int(data[0:4])\n",
        "    nd = magic % 256\n",
        "    ty = magic // 256\n",
        "    assert nd >= 1 and nd <= 3\n",
        "    assert ty >= 8 and ty <= 14\n",
        "    m = read_sn3_pascalvincent_tensor.typemap[ty]\n",
        "    s = [get_int(data[4 * (i + 1): 4 * (i + 2)]) for i in range(nd)]\n",
        "    parsed = np.frombuffer(data, dtype=m[1], offset=(4 * (nd + 1)))\n",
        "    assert parsed.shape[0] == np.prod(s) or not strict\n",
        "    return torch.from_numpy(parsed.astype(m[2], copy=False)).view(*s)\n"
      ],
      "execution_count": null,
      "outputs": []
    },
    {
      "cell_type": "markdown",
      "metadata": {
        "id": "upB5me3NWsKo"
      },
      "source": [
        "# Train Validation Test Split"
      ]
    },
    {
      "cell_type": "code",
      "metadata": {
        "id": "4o1HMNQEXIMB"
      },
      "source": [
        "from   torchvision import datasets as datasets\n",
        "import torchvision.transforms as transforms\n",
        "import torch.utils as utils\n",
        "import matplotlib.pyplot as plt\n",
        "import torch\n",
        "import torchvision"
      ],
      "execution_count": null,
      "outputs": []
    },
    {
      "cell_type": "code",
      "metadata": {
        "id": "BSZVdnTVWymq"
      },
      "source": [
        "# https://gist.github.com/kevinzakka/d33bf8d6c7f06a9d8c76d97a7879f5cb#file-data_loader-py\n",
        "# This is an example for the MNIST dataset (formerly CIFAR-10).\n",
        "# There's a function for creating a train and validation iterator.\n",
        "# There's also a function for creating a test iterator.\n",
        "# Inspired by https://discuss.pytorch.org/t/feedback-on-pytorch-for-kaggle-competitions/2252/4\n",
        "\n",
        "# Adapted for MNIST by github.com/MatthewKleinsmith\n",
        "\n",
        "import numpy as np\n",
        "import torch\n",
        "from torchvision import datasets, transforms\n",
        "from torch.utils.data.sampler import SubsetRandomSampler\n",
        "\n",
        "def get_train_valid_loader(data_dir,\n",
        "                           batch_size,\n",
        "                           random_seed,\n",
        "                           transform,\n",
        "                           valid_size=0.2,\n",
        "                           shuffle=True,\n",
        "                           num_workers=1,\n",
        "                           pin_memory=True,\n",
        "                           limit_=60000\n",
        "                           ):\n",
        "\n",
        "\n",
        "    #normalize = transforms.Normalize((0.1307,), (0.3081,))  # MNIST\n",
        "\n",
        "    # define transforms\n",
        "    #valid_transform = transforms.Compose([\n",
        "    #        transforms.ToTensor(),\n",
        "    #        normalize\n",
        "    #    ])\n",
        "    #\n",
        "    #train_transform = transforms.Compose([\n",
        "    #    transforms.ToTensor(),\n",
        "    #    normalize\n",
        "    #])\n",
        "\n",
        "    valid_transform = transform\n",
        "    train_transform = transform\n",
        "\n",
        "    # load the dataset FULL\n",
        "    #train_dataset = datasets.MNIST(root=data_dir, train=True,\n",
        "    #            download=True, transform=train_transform)\n",
        "\n",
        "    #valid_dataset = datasets.MNIST(root=data_dir, train=True,\n",
        "    #            download=True, transform=valid_transform)\n",
        "\n",
        "    # subset\n",
        "    train_dataset = MyMNIST(root=data_dir, train=True,\n",
        "                download=True, transform=train_transform,limit_data=limit_)\n",
        "\n",
        "    valid_dataset = MyMNIST(root=data_dir, train=True,\n",
        "                download=True, transform=valid_transform,limit_data=limit_)\n",
        "\n",
        "    num_train = len(train_dataset)\n",
        "    indices = list(range(num_train))\n",
        "    split = int(np.floor(valid_size * num_train))\n",
        "\n",
        "    if shuffle == True:\n",
        "        np.random.seed(random_seed)\n",
        "        np.random.shuffle(indices)\n",
        "\n",
        "    train_idx, valid_idx = indices[split:], indices[:split]\n",
        "\n",
        "    train_sampler = SubsetRandomSampler(train_idx)\n",
        "    valid_sampler = SubsetRandomSampler(valid_idx)\n",
        "\n",
        "    train_loader = torch.utils.data.DataLoader(train_dataset,\n",
        "                    batch_size=batch_size, sampler=train_sampler,\n",
        "                    num_workers=num_workers, pin_memory=pin_memory)\n",
        "\n",
        "    valid_loader = torch.utils.data.DataLoader(valid_dataset,\n",
        "                    batch_size=batch_size, sampler=valid_sampler,\n",
        "                    num_workers=num_workers, pin_memory=pin_memory)\n",
        "\n",
        "\n",
        "    return (train_loader, valid_loader)\n",
        "\n",
        "def get_test_loader(data_dir,\n",
        "                    batch_size,\n",
        "                    transform,\n",
        "                    shuffle=True,\n",
        "                    num_workers=1,\n",
        "                    pin_memory=True\n",
        "                    ):\n",
        "\n",
        "    # normalize = transforms.Normalize((0.1307,), (0.3081,))  # MNIST\n",
        "\n",
        "    # define transform\n",
        "    #transform = transforms.Compose([\n",
        "    #    transforms.ToTensor(),\n",
        "    #    normalize\n",
        "    #])\n",
        "\n",
        "    dataset = datasets.MNIST(root=data_dir,\n",
        "                               train=False,\n",
        "                               download=True,\n",
        "                               transform=transform)\n",
        "\n",
        "    data_loader = torch.utils.data.DataLoader(dataset,\n",
        "                                              batch_size=batch_size,\n",
        "                                              shuffle=shuffle,\n",
        "                                              num_workers=num_workers,\n",
        "                                              pin_memory=pin_memory)\n",
        "\n",
        "    return data_loader"
      ],
      "execution_count": null,
      "outputs": []
    },
    {
      "cell_type": "markdown",
      "metadata": {
        "id": "TB-1glT80Pt8"
      },
      "source": [
        "# Load the data"
      ]
    },
    {
      "cell_type": "code",
      "metadata": {
        "colab": {
          "base_uri": "https://localhost:8080/"
        },
        "id": "frHTUU1dyHWZ",
        "outputId": "6389bb0d-ab86-4060-9664-32a7b79345fa"
      },
      "source": [
        "# check device\n",
        "DEVICE = 'cuda' if torch.cuda.is_available() else 'cpu'\n",
        "print(DEVICE)\n",
        "\n",
        "# ----------------- define the training set - Version 1 -----------------\n",
        "#MNISTtrain = datasets.MNIST(root='./data', train=True, download=True, transform=normFunc)\n",
        "#trainLoad = torch.utils.data.DataLoader(MNISTtrain,\n",
        "#                                          batch_size=50,\n",
        "#                                          shuffle=True,\n",
        "#                                          num_workers=2)\n",
        "\n",
        "# ----------------- define the test set - Version 1 -----------------\n",
        "#MNISTtest = datasets.MNIST(root='./data', train=False, download=True, transform=normFunc)\n",
        "#testLoad = torch.utils.data.DataLoader(MNISTtest,\n",
        "#                                          batch_size=100,\n",
        "#                                          shuffle=False,\n",
        "#                                          num_workers=2)\n",
        "\n",
        "# ----------------- define the training/validation set - Version 2 -----------------\n",
        "def load_data(tfunc):\n",
        "\n",
        "  #normFunc = torchvision.transforms.Compose([\n",
        "  #                              torchvision.transforms.ToTensor(),\n",
        "  #                              torchvision.transforms.Normalize(\n",
        "  #                                (0.1307,), (0.3081,))\n",
        "  #                            ])\n",
        "  trainLoad,valLoad = get_train_valid_loader(data_dir='./data',valid_size=0.0,batch_size=50,random_seed = 42,limit_=1000,transform=tfunc)\n",
        "  testLoad = get_test_loader(data_dir='./data',batch_size=100,shuffle=False,transform=tfunc)\n",
        "  return trainLoad,testLoad"
      ],
      "execution_count": null,
      "outputs": [
        {
          "output_type": "stream",
          "name": "stdout",
          "text": [
            "cpu\n"
          ]
        }
      ]
    },
    {
      "cell_type": "markdown",
      "metadata": {
        "id": "WbqVw4s3svev"
      },
      "source": [
        "# Create Models"
      ]
    },
    {
      "cell_type": "code",
      "metadata": {
        "id": "kPE122zz5XKV"
      },
      "source": [
        "import torch\n",
        "import torch.nn as nn\n",
        "import torch.nn.functional as F"
      ],
      "execution_count": null,
      "outputs": []
    },
    {
      "cell_type": "markdown",
      "metadata": {
        "id": "gF9rXXlTk1yJ"
      },
      "source": [
        "## Model Description\n",
        "1. Full LeNet\n",
        "2. LeNet final layer dropped (only 2 Conv layer), FC retained\n",
        "3. LeNet only first convolutional layer, FC retained\n",
        "4. LeNet, 1 FC layer only"
      ]
    },
    {
      "cell_type": "code",
      "metadata": {
        "id": "R0YV7Y1Ws3At"
      },
      "source": [
        "class Model1(nn.Module):\n",
        "  def __init__(self,input_dim=1,num_class=10):\n",
        "    super(Model1,self).__init__()\n",
        "\n",
        "    # Based on\n",
        "\n",
        "    self.conv_layer = nn.Sequential(\n",
        "        nn.Conv2d(in_channels=1, out_channels=6, kernel_size=5, stride=1,padding=2),\n",
        "        nn.ReLU(),\n",
        "        nn.AvgPool2d(kernel_size=2),\n",
        "        nn.Conv2d(in_channels=6, out_channels=16, kernel_size=5, stride=1),\n",
        "        nn.ReLU(),\n",
        "        nn.AvgPool2d(kernel_size=2),\n",
        "        nn.Conv2d(in_channels=16, out_channels=120, kernel_size=5, stride=1),\n",
        "        nn.ReLU()\n",
        "    )\n",
        "\n",
        "\n",
        "    self.fc_layer = nn.Sequential(\n",
        "        nn.Linear(in_features=120,out_features=84),\n",
        "        nn.ReLU(),\n",
        "        nn.Linear(in_features=84,out_features=10),\n",
        "    )\n",
        "\n",
        "  def forward(self,x):\n",
        "    x = self.conv_layer(x)\n",
        "    x = torch.flatten(x,1)\n",
        "    x = self.fc_layer(x)\n",
        "\n",
        "    return x"
      ],
      "execution_count": null,
      "outputs": []
    },
    {
      "cell_type": "code",
      "metadata": {
        "colab": {
          "base_uri": "https://localhost:8080/"
        },
        "id": "Ds1aZEn91Jdd",
        "outputId": "2230ffe9-98a9-4b7a-bd5b-f0bdebe59399"
      },
      "source": [
        "print(Model1())"
      ],
      "execution_count": null,
      "outputs": [
        {
          "output_type": "stream",
          "name": "stdout",
          "text": [
            "Model1(\n",
            "  (conv_layer): Sequential(\n",
            "    (0): Conv2d(1, 6, kernel_size=(5, 5), stride=(1, 1), padding=(2, 2))\n",
            "    (1): ReLU()\n",
            "    (2): AvgPool2d(kernel_size=2, stride=2, padding=0)\n",
            "    (3): Conv2d(6, 16, kernel_size=(5, 5), stride=(1, 1))\n",
            "    (4): ReLU()\n",
            "    (5): AvgPool2d(kernel_size=2, stride=2, padding=0)\n",
            "    (6): Conv2d(16, 120, kernel_size=(5, 5), stride=(1, 1))\n",
            "    (7): ReLU()\n",
            "  )\n",
            "  (fc_layer): Sequential(\n",
            "    (0): Linear(in_features=120, out_features=84, bias=True)\n",
            "    (1): ReLU()\n",
            "    (2): Linear(in_features=84, out_features=10, bias=True)\n",
            "  )\n",
            ")\n"
          ]
        }
      ]
    },
    {
      "cell_type": "code",
      "metadata": {
        "id": "qw_N_HST26cf"
      },
      "source": [
        "class Model2(nn.Module):\n",
        "  def __init__(self,input_dim=1,num_class=10):\n",
        "    super(Model2,self).__init__()\n",
        "\n",
        "    # Based on\n",
        "\n",
        "    self.conv_layer = nn.Sequential(\n",
        "        nn.Conv2d(in_channels=1, out_channels=6, kernel_size=5, stride=1,padding=2),\n",
        "        nn.ReLU(),\n",
        "        nn.AvgPool2d(kernel_size=2),\n",
        "        nn.Conv2d(in_channels=6, out_channels=16, kernel_size=5, stride=1),\n",
        "        nn.ReLU()\n",
        "    )\n",
        "\n",
        "\n",
        "    self.fc_layer = nn.Sequential(\n",
        "        nn.Linear(in_features=1600,out_features=160),\n",
        "        nn.ReLU(),\n",
        "        nn.Linear(in_features=160,out_features=10),\n",
        "    )\n",
        "\n",
        "  def forward(self,x):\n",
        "    x = self.conv_layer(x)\n",
        "    x = torch.flatten(x,1)\n",
        "    x = self.fc_layer(x)\n",
        "\n",
        "    return x"
      ],
      "execution_count": null,
      "outputs": []
    },
    {
      "cell_type": "code",
      "metadata": {
        "colab": {
          "base_uri": "https://localhost:8080/"
        },
        "id": "zfv3lKFP9y6d",
        "outputId": "4d4ab41d-f8fa-4983-848b-ca49ffc84422"
      },
      "source": [
        "print(Model2())"
      ],
      "execution_count": null,
      "outputs": [
        {
          "output_type": "stream",
          "name": "stdout",
          "text": [
            "Model2(\n",
            "  (conv_layer): Sequential(\n",
            "    (0): Conv2d(1, 6, kernel_size=(5, 5), stride=(1, 1), padding=(2, 2))\n",
            "    (1): ReLU()\n",
            "    (2): AvgPool2d(kernel_size=2, stride=2, padding=0)\n",
            "    (3): Conv2d(6, 16, kernel_size=(5, 5), stride=(1, 1))\n",
            "    (4): ReLU()\n",
            "  )\n",
            "  (fc_layer): Sequential(\n",
            "    (0): Linear(in_features=1600, out_features=160, bias=True)\n",
            "    (1): ReLU()\n",
            "    (2): Linear(in_features=160, out_features=10, bias=True)\n",
            "  )\n",
            ")\n"
          ]
        }
      ]
    },
    {
      "cell_type": "code",
      "metadata": {
        "id": "CBSsIuvqkHL7"
      },
      "source": [
        "class Model3(nn.Module):\n",
        "  def __init__(self,input_dim=1,num_class=10):\n",
        "    super(Model3,self).__init__()\n",
        "\n",
        "    # Based on\n",
        "\n",
        "    self.conv_layer = nn.Sequential(\n",
        "        nn.Conv2d(in_channels=1, out_channels=6, kernel_size=5, stride=1,padding=2),\n",
        "        nn.ReLU(),\n",
        "    )\n",
        "\n",
        "\n",
        "    self.fc_layer = nn.Sequential(\n",
        "        nn.Linear(in_features=4704,out_features=160),\n",
        "        nn.ReLU(),\n",
        "        nn.Linear(in_features=160,out_features=10),\n",
        "    )\n",
        "\n",
        "  def forward(self,x):\n",
        "    x = self.conv_layer(x)\n",
        "    x = torch.flatten(x,1)\n",
        "    x = self.fc_layer(x)\n",
        "\n",
        "    return x"
      ],
      "execution_count": null,
      "outputs": []
    },
    {
      "cell_type": "code",
      "metadata": {
        "colab": {
          "base_uri": "https://localhost:8080/"
        },
        "id": "9pt5-Ctt_XHS",
        "outputId": "dfe5d54f-522d-4fbf-a738-70b689b4f850"
      },
      "source": [
        "print(Model3())"
      ],
      "execution_count": null,
      "outputs": [
        {
          "output_type": "stream",
          "name": "stdout",
          "text": [
            "Model3(\n",
            "  (conv_layer): Sequential(\n",
            "    (0): Conv2d(1, 6, kernel_size=(5, 5), stride=(1, 1), padding=(2, 2))\n",
            "    (1): ReLU()\n",
            "  )\n",
            "  (fc_layer): Sequential(\n",
            "    (0): Linear(in_features=4704, out_features=160, bias=True)\n",
            "    (1): ReLU()\n",
            "    (2): Linear(in_features=160, out_features=10, bias=True)\n",
            "  )\n",
            ")\n"
          ]
        }
      ]
    },
    {
      "cell_type": "code",
      "metadata": {
        "id": "xPer1jfglazp"
      },
      "source": [
        "class Model4(nn.Module):\n",
        "  def __init__(self,input_dim=1,num_class=10):\n",
        "    super(Model4,self).__init__()\n",
        "\n",
        "    # Based on\n",
        "\n",
        "    self.conv_layer = nn.Sequential(\n",
        "        nn.Conv2d(in_channels=1, out_channels=6, kernel_size=5, stride=1,padding=2),\n",
        "        nn.ReLU(),\n",
        "        nn.AvgPool2d(kernel_size=2),\n",
        "        nn.Conv2d(in_channels=6, out_channels=16, kernel_size=5, stride=1),\n",
        "        nn.ReLU(),\n",
        "        nn.AvgPool2d(kernel_size=2),\n",
        "        nn.Conv2d(in_channels=16, out_channels=120, kernel_size=5, stride=1),\n",
        "        nn.ReLU()\n",
        "    )\n",
        "\n",
        "\n",
        "    self.fc_layer = nn.Sequential(\n",
        "        nn.Linear(in_features=120,out_features=10),\n",
        "    )\n",
        "\n",
        "  def forward(self,x):\n",
        "    x = self.conv_layer(x)\n",
        "    x = torch.flatten(x,1)\n",
        "    x = self.fc_layer(x)\n",
        "\n",
        "    return x"
      ],
      "execution_count": null,
      "outputs": []
    },
    {
      "cell_type": "code",
      "metadata": {
        "colab": {
          "base_uri": "https://localhost:8080/"
        },
        "id": "r8JUCiF6BORU",
        "outputId": "311e9f08-2362-4558-fe45-f11353bfed23"
      },
      "source": [
        "print(Model4())"
      ],
      "execution_count": null,
      "outputs": [
        {
          "output_type": "stream",
          "name": "stdout",
          "text": [
            "Model4(\n",
            "  (conv_layer): Sequential(\n",
            "    (0): Conv2d(1, 6, kernel_size=(5, 5), stride=(1, 1), padding=(2, 2))\n",
            "    (1): ReLU()\n",
            "    (2): AvgPool2d(kernel_size=2, stride=2, padding=0)\n",
            "    (3): Conv2d(6, 16, kernel_size=(5, 5), stride=(1, 1))\n",
            "    (4): ReLU()\n",
            "    (5): AvgPool2d(kernel_size=2, stride=2, padding=0)\n",
            "    (6): Conv2d(16, 120, kernel_size=(5, 5), stride=(1, 1))\n",
            "    (7): ReLU()\n",
            "  )\n",
            "  (fc_layer): Sequential(\n",
            "    (0): Linear(in_features=120, out_features=10, bias=True)\n",
            "  )\n",
            ")\n"
          ]
        }
      ]
    },
    {
      "cell_type": "code",
      "metadata": {
        "id": "sxQ8yeioBGh_"
      },
      "source": [
        "class Model5(nn.Module):\n",
        "  def __init__(self,input_dim=1,num_class=10):\n",
        "    super(Model5,self).__init__()\n",
        "\n",
        "    # Based on\n",
        "\n",
        "    self.conv_layer = nn.Sequential(\n",
        "        nn.Conv2d(in_channels=1, out_channels=6, kernel_size=5, stride=1,padding=2),\n",
        "        nn.ReLU(),\n",
        "    )\n",
        "\n",
        "\n",
        "    self.fc_layer = nn.Sequential(\n",
        "        nn.Linear(in_features=4704,out_features=2352),\n",
        "        nn.ReLU(),\n",
        "        nn.Linear(in_features=2352,out_features=1676),\n",
        "        nn.ReLU(),\n",
        "        nn.Linear(in_features=1676,out_features=838),\n",
        "        nn.ReLU(),\n",
        "        nn.Linear(in_features=838,out_features=419),\n",
        "        nn.ReLU(),\n",
        "        nn.Linear(in_features=419,out_features=210),\n",
        "        nn.ReLU(),\n",
        "        nn.Linear(in_features=210,out_features=10),\n",
        "    )\n",
        "\n",
        "  def forward(self,x):\n",
        "    x = self.conv_layer(x)\n",
        "    x = torch.flatten(x,1)\n",
        "    x = self.fc_layer(x)\n",
        "\n",
        "    return x"
      ],
      "execution_count": null,
      "outputs": []
    },
    {
      "cell_type": "code",
      "metadata": {
        "id": "IrTx1Ox_B_RL",
        "colab": {
          "base_uri": "https://localhost:8080/"
        },
        "outputId": "12165192-08e3-4fc0-cc66-b6435e5a2365"
      },
      "source": [
        "print(Model5())"
      ],
      "execution_count": null,
      "outputs": [
        {
          "output_type": "stream",
          "name": "stdout",
          "text": [
            "Model5(\n",
            "  (conv_layer): Sequential(\n",
            "    (0): Conv2d(1, 6, kernel_size=(5, 5), stride=(1, 1), padding=(2, 2))\n",
            "    (1): ReLU()\n",
            "  )\n",
            "  (fc_layer): Sequential(\n",
            "    (0): Linear(in_features=4704, out_features=2352, bias=True)\n",
            "    (1): ReLU()\n",
            "    (2): Linear(in_features=2352, out_features=1676, bias=True)\n",
            "    (3): ReLU()\n",
            "    (4): Linear(in_features=1676, out_features=838, bias=True)\n",
            "    (5): ReLU()\n",
            "    (6): Linear(in_features=838, out_features=419, bias=True)\n",
            "    (7): ReLU()\n",
            "    (8): Linear(in_features=419, out_features=210, bias=True)\n",
            "    (9): ReLU()\n",
            "    (10): Linear(in_features=210, out_features=10, bias=True)\n",
            "  )\n",
            ")\n"
          ]
        }
      ]
    },
    {
      "cell_type": "code",
      "metadata": {
        "id": "Ufu8EvU5vkIV"
      },
      "source": [
        "#net = Model1().to(DEVICE)\n",
        "#print(net)\n",
        "#nets = [\n",
        "#   Model1(),\n",
        "#   Model2(),\n",
        "#   Model3(),\n",
        "#   Model4(),\n",
        "#   Model5()\n",
        "#]\n",
        "\n",
        "nets = [\n",
        "        Model1()\n",
        "]"
      ],
      "execution_count": null,
      "outputs": []
    },
    {
      "cell_type": "markdown",
      "metadata": {
        "id": "0o6tHQVPdi4u"
      },
      "source": [
        "## Test 1 Transformations"
      ]
    },
    {
      "cell_type": "code",
      "metadata": {
        "id": "cwRPcOs-CKOS"
      },
      "source": [
        "# transformation\n",
        "t0 = torchvision.transforms.Compose([\n",
        "                                     torchvision.transforms.ToTensor(),\n",
        "                                     torchvision.transforms.Normalize((0.1307,), (0.3081,))\n",
        "                                     ])\n",
        "\n",
        "t1 = torchvision.transforms.Compose([\n",
        "                                     torchvision.transforms.RandomSolarize(0.5),\n",
        "                                     torchvision.transforms.ToTensor(),\n",
        "                                     torchvision.transforms.Normalize((0.1307,), (0.3081,))\n",
        "                                     ])\n",
        "\n",
        "t2 = torchvision.transforms.Compose([\n",
        "                                     torchvision.transforms.RandomAffine(degrees=(0,90),scale=(0.5,1),translate=(0,0.2)),\n",
        "                                     torchvision.transforms.ToTensor(),\n",
        "                                     torchvision.transforms.Normalize((0.1307,), (0.3081,))\n",
        "                                     ])\n",
        "\n",
        "t3 = torchvision.transforms.Compose([\n",
        "                                     torchvision.transforms.RandomPosterize(bits=1),\n",
        "                                     torchvision.transforms.ToTensor(),\n",
        "                                     torchvision.transforms.Normalize((0.1307,), (0.3081,))\n",
        "                                     ])\n",
        "\n",
        "t4 = torchvision.transforms.Compose([\n",
        "                                     torchvision.transforms.RandomInvert(),\n",
        "                                     torchvision.transforms.ToTensor(),\n",
        "                                     torchvision.transforms.Normalize((0.1307,), (0.3081,))\n",
        "                                     ])\n",
        "\n",
        "t5 = torchvision.transforms.Compose([\n",
        "                                     torchvision.transforms.GaussianBlur(kernel_size=3),\n",
        "                                     torchvision.transforms.ToTensor(),\n",
        "                                     torchvision.transforms.Normalize((0.1307,), (0.3081,))\n",
        "                                     ])\n",
        "\n",
        "tss = [\n",
        "       t0,\n",
        "       t5,\n",
        "       t2,\n",
        "       t3,\n",
        "       t4,\n",
        "       t1\n",
        "       ]"
      ],
      "execution_count": null,
      "outputs": []
    },
    {
      "cell_type": "code",
      "metadata": {
        "id": "zm39UIHdEqIF"
      },
      "source": [
        "# validate is portion of training, not used\n",
        "def validate_model():\n",
        "  print(\"Testing the network...\")\n",
        "  net.eval()\n",
        "  total_num   = 0\n",
        "  correct_num = 0\n",
        "  for test_iter, test_data in enumerate(valLoad):\n",
        "    # Get one batch of test samples\n",
        "    inputs, labels = test_data\n",
        "    bch = inputs.size(0)\n",
        "    #inputs = inputs.view(bch, -1) <-- We don't need to reshape inputs here (we are using CNNs).\n",
        "\n",
        "    # Move inputs and labels into GPU\n",
        "    inputs = inputs.cuda()\n",
        "    labels = torch.LongTensor(list(labels)).cuda()\n",
        "\n",
        "    # Forward\n",
        "    outputs = net(inputs)\n",
        "\n",
        "    # Get predicted classes\n",
        "    _, pred_cls = torch.max(outputs, 1)\n",
        "#     if total_num == 0:\n",
        "#        print(\"True label:\\n\", labels)\n",
        "#        print(\"Prediction:\\n\", pred_cls)\n",
        "    # Record test result\n",
        "    correct_num+= (pred_cls == labels).float().sum().item()\n",
        "    total_num+= bch\n",
        "  net.train()\n",
        "  print(total_num)\n",
        "  print(\"Accuracy: \"+\"%.3f\"%(correct_num/float(total_num)))\n",
        "  return correct_num/float(total_num)"
      ],
      "execution_count": null,
      "outputs": []
    },
    {
      "cell_type": "code",
      "metadata": {
        "id": "T0a_w-4l48Fy"
      },
      "source": [
        "import torch.optim as optim\n",
        "import time"
      ],
      "execution_count": null,
      "outputs": []
    },
    {
      "cell_type": "code",
      "metadata": {
        "id": "jWd-v17rYuXd"
      },
      "source": [
        "def test_model():\n",
        "  #print(\"Testing the network...\")\n",
        "  net.eval()\n",
        "  total_num   = 0\n",
        "  correct_num = 0\n",
        "\n",
        "  for test_iter, test_data in enumerate(testLoad):\n",
        "    # Get one batch of test samples\n",
        "    inputs, labels = test_data\n",
        "    bch = inputs.size(0)\n",
        "    #inputs = inputs.view(bch, -1) <-- We don't need to reshape inputs here (we are using CNNs).\n",
        "\n",
        "    # Move inputs and labels into GPU\n",
        "    inputs = inputs.to(DEVICE)\n",
        "    labels = torch.LongTensor(list(labels)).to(DEVICE)\n",
        "\n",
        "    # Forward\n",
        "    outputs = net(inputs)\n",
        "\n",
        "    # Get predicted classes\n",
        "    _, pred_cls = torch.max(outputs, 1)\n",
        "#     if total_num == 0:\n",
        "#        print(\"True label:\\n\", labels)\n",
        "#        print(\"Prediction:\\n\", pred_cls)\n",
        "    # Record test result\n",
        "    correct_num+= (pred_cls == labels).float().sum().item()\n",
        "    total_num+= bch\n",
        "  net.train()\n",
        "  #print(total_num)\n",
        "  #print(\"Accuracy: \"+\"%.3f\"%(correct_num/float(total_num)))\n",
        "  return correct_num/float(total_num)"
      ],
      "execution_count": null,
      "outputs": []
    },
    {
      "cell_type": "code",
      "metadata": {
        "id": "uILEjI-AkKv5"
      },
      "source": [
        "def weight_reset(m):\n",
        "    if isinstance(m, nn.Conv2d) or isinstance(m, nn.Linear):\n",
        "        m.reset_parameters()"
      ],
      "execution_count": null,
      "outputs": []
    },
    {
      "cell_type": "code",
      "metadata": {
        "colab": {
          "base_uri": "https://localhost:8080/"
        },
        "id": "7UQGxkgnEuU0",
        "outputId": "50805dee-f0bd-46d9-ce5b-aae478f11341"
      },
      "source": [
        "all_train = {}\n",
        "all_test = {}\n",
        "all_time = {}\n",
        "\n",
        "set_epochs = 51\n",
        "\n",
        "\n",
        "for inett,ts in enumerate(tss):\n",
        "  nett = nets[0] # only one model\n",
        "  nett.apply(weight_reset)\n",
        "  print(f\"Working on model {inett}\")\n",
        "  # load data\n",
        "  trainLoad, testLoad = load_data(tfunc=ts)\n",
        "  net = nett.to(DEVICE)\n",
        "\n",
        "  accs = []\n",
        "  trains = []\n",
        "  elapsed = []\n",
        "\n",
        "  # Optimizer and loss-function\n",
        "  loss_func = nn.CrossEntropyLoss()\n",
        "  optimizer = optim.SGD(net.parameters(), lr=0.001, momentum=0.9)\n",
        "  epoch = 0\n",
        "\n",
        "  for epochs in range(1,51):\n",
        "    running_loss = 0.0\n",
        "    ct_num = 0\n",
        "    total_batch = 0\n",
        "    correct_num = 0\n",
        "\n",
        "    start = time.time()\n",
        "\n",
        "    for iteration, data in enumerate(trainLoad):\n",
        "      # Take the inputs and the labels for 1 batch.\n",
        "      inputs, labels = data\n",
        "      bch = inputs.size(0)\n",
        "\n",
        "      # Move inputs and labels into GPU\n",
        "      inputs = inputs.to(DEVICE)\n",
        "      labels = labels.to(DEVICE)\n",
        "\n",
        "      # Remove old gradients for the optimizer.\n",
        "      optimizer.zero_grad()\n",
        "\n",
        "      # Compute result (Forward)\n",
        "      outputs = net(inputs)\n",
        "\n",
        "      # Get train pred class to calculate acc\n",
        "      _, pred_cls = torch.max(outputs, 1)\n",
        "      correct_num += (pred_cls == labels).float().sum().item()\n",
        "      total_batch += bch\n",
        "\n",
        "      # Compute loss\n",
        "      loss    = loss_func(outputs, labels)\n",
        "\n",
        "\n",
        "      # Calculate gradients (Backward)\n",
        "      loss.backward()\n",
        "\n",
        "      # Update parameters\n",
        "      optimizer.step()\n",
        "\n",
        "      #with torch.no_grad():\n",
        "      running_loss += loss.item()\n",
        "      ct_num+= 1\n",
        "\n",
        "\n",
        "      # training\n",
        "      #if iteration%50 == 49: #48\n",
        "        #print(\"Iteration: \"+str(iteration+1)+\", Loss: \"+str(running_loss/ct_num)+'.')\n",
        "        #print(\"[Epoch: \"+str(epoch+1)+\"]\"\" --- Iteration: \"+str(iteration+1)+\", Loss: \"+str(running_loss/ct_num)+'.')\n",
        "\n",
        "\n",
        "      # Test\n",
        "      #if iteration%300 == 299: # 240\n",
        "      #  acc = test_model()\n",
        "      #  accs.append(acc)\n",
        "\n",
        "    # time\n",
        "    stop = time.time()\n",
        "    elapsed.append(stop-start)\n",
        "\n",
        "    # training accuracy\n",
        "    trainacc = correct_num/float(total_batch)\n",
        "    trains.append(trainacc)\n",
        "\n",
        "    # test accuracy\n",
        "    acc = test_model()\n",
        "    accs.append(acc)\n",
        "    print(epochs)\n",
        "\n",
        "\n",
        "  # save all\n",
        "  all_train[inett] = trains\n",
        "  all_test[inett] = accs\n",
        "  all_time[inett] = elapsed"
      ],
      "execution_count": null,
      "outputs": [
        {
          "output_type": "stream",
          "name": "stdout",
          "text": [
            "Working on model 0\n",
            "[WRN]: Training Data is limited, only the first 1000 samples will be used.\n",
            "[WRN]: Training Data is limited, only the first 1000 samples will be used.\n",
            "1\n",
            "2\n",
            "3\n",
            "4\n",
            "5\n",
            "6\n",
            "7\n",
            "8\n",
            "9\n",
            "10\n",
            "11\n",
            "12\n",
            "13\n",
            "14\n",
            "15\n",
            "16\n",
            "17\n",
            "18\n",
            "19\n",
            "20\n",
            "21\n",
            "22\n",
            "23\n",
            "24\n",
            "25\n",
            "26\n",
            "27\n",
            "28\n",
            "29\n",
            "30\n",
            "31\n",
            "32\n",
            "33\n",
            "34\n",
            "35\n",
            "36\n",
            "37\n",
            "38\n",
            "39\n",
            "40\n",
            "41\n",
            "42\n",
            "43\n",
            "44\n",
            "45\n",
            "46\n",
            "47\n",
            "48\n",
            "49\n",
            "50\n",
            "Working on model 1\n",
            "[WRN]: Training Data is limited, only the first 1000 samples will be used.\n",
            "[WRN]: Training Data is limited, only the first 1000 samples will be used.\n",
            "1\n",
            "2\n",
            "3\n",
            "4\n",
            "5\n",
            "6\n",
            "7\n",
            "8\n",
            "9\n",
            "10\n",
            "11\n",
            "12\n",
            "13\n",
            "14\n",
            "15\n",
            "16\n",
            "17\n",
            "18\n",
            "19\n",
            "20\n",
            "21\n",
            "22\n",
            "23\n",
            "24\n",
            "25\n",
            "26\n",
            "27\n",
            "28\n",
            "29\n",
            "30\n",
            "31\n",
            "32\n",
            "33\n",
            "34\n",
            "35\n",
            "36\n",
            "37\n",
            "38\n",
            "39\n",
            "40\n",
            "41\n",
            "42\n",
            "43\n",
            "44\n",
            "45\n",
            "46\n",
            "47\n",
            "48\n",
            "49\n",
            "50\n",
            "Working on model 2\n",
            "[WRN]: Training Data is limited, only the first 1000 samples will be used.\n",
            "[WRN]: Training Data is limited, only the first 1000 samples will be used.\n",
            "1\n",
            "2\n",
            "3\n",
            "4\n",
            "5\n",
            "6\n",
            "7\n",
            "8\n",
            "9\n",
            "10\n",
            "11\n",
            "12\n",
            "13\n",
            "14\n",
            "15\n",
            "16\n",
            "17\n",
            "18\n",
            "19\n",
            "20\n",
            "21\n",
            "22\n",
            "23\n",
            "24\n",
            "25\n",
            "26\n",
            "27\n",
            "28\n",
            "29\n",
            "30\n",
            "31\n",
            "32\n",
            "33\n",
            "34\n",
            "35\n",
            "36\n",
            "37\n",
            "38\n",
            "39\n",
            "40\n",
            "41\n",
            "42\n",
            "43\n",
            "44\n",
            "45\n",
            "46\n",
            "47\n",
            "48\n",
            "49\n",
            "50\n",
            "Working on model 3\n",
            "[WRN]: Training Data is limited, only the first 1000 samples will be used.\n",
            "[WRN]: Training Data is limited, only the first 1000 samples will be used.\n",
            "1\n",
            "2\n",
            "3\n",
            "4\n",
            "5\n",
            "6\n",
            "7\n",
            "8\n",
            "9\n",
            "10\n",
            "11\n",
            "12\n",
            "13\n",
            "14\n",
            "15\n",
            "16\n",
            "17\n",
            "18\n",
            "19\n",
            "20\n",
            "21\n",
            "22\n",
            "23\n",
            "24\n",
            "25\n",
            "26\n",
            "27\n",
            "28\n",
            "29\n",
            "30\n",
            "31\n",
            "32\n",
            "33\n",
            "34\n",
            "35\n",
            "36\n",
            "37\n",
            "38\n",
            "39\n",
            "40\n",
            "41\n",
            "42\n",
            "43\n",
            "44\n",
            "45\n",
            "46\n",
            "47\n",
            "48\n",
            "49\n",
            "50\n",
            "Working on model 4\n",
            "[WRN]: Training Data is limited, only the first 1000 samples will be used.\n",
            "[WRN]: Training Data is limited, only the first 1000 samples will be used.\n",
            "1\n",
            "2\n",
            "3\n",
            "4\n",
            "5\n",
            "6\n",
            "7\n",
            "8\n",
            "9\n",
            "10\n",
            "11\n",
            "12\n",
            "13\n",
            "14\n",
            "15\n",
            "16\n",
            "17\n",
            "18\n",
            "19\n",
            "20\n",
            "21\n",
            "22\n",
            "23\n",
            "24\n",
            "25\n",
            "26\n",
            "27\n",
            "28\n",
            "29\n",
            "30\n",
            "31\n",
            "32\n",
            "33\n",
            "34\n",
            "35\n",
            "36\n",
            "37\n",
            "38\n",
            "39\n",
            "40\n",
            "41\n",
            "42\n",
            "43\n",
            "44\n",
            "45\n",
            "46\n",
            "47\n",
            "48\n",
            "49\n",
            "50\n",
            "Working on model 5\n",
            "[WRN]: Training Data is limited, only the first 1000 samples will be used.\n",
            "[WRN]: Training Data is limited, only the first 1000 samples will be used.\n",
            "1\n",
            "2\n",
            "3\n",
            "4\n",
            "5\n",
            "6\n",
            "7\n",
            "8\n",
            "9\n",
            "10\n",
            "11\n",
            "12\n",
            "13\n",
            "14\n",
            "15\n",
            "16\n",
            "17\n",
            "18\n",
            "19\n",
            "20\n",
            "21\n",
            "22\n",
            "23\n",
            "24\n",
            "25\n",
            "26\n",
            "27\n",
            "28\n",
            "29\n",
            "30\n",
            "31\n",
            "32\n",
            "33\n",
            "34\n",
            "35\n",
            "36\n",
            "37\n",
            "38\n",
            "39\n",
            "40\n",
            "41\n",
            "42\n",
            "43\n",
            "44\n",
            "45\n",
            "46\n",
            "47\n",
            "48\n",
            "49\n",
            "50\n"
          ]
        }
      ]
    },
    {
      "cell_type": "code",
      "metadata": {
        "id": "Yte2-JqsoU6I"
      },
      "source": [
        "# plot the accuracy\n",
        "import matplotlib.pyplot as plt\n",
        "import seaborn as sns"
      ],
      "execution_count": null,
      "outputs": []
    },
    {
      "cell_type": "code",
      "metadata": {
        "id": "NbT9d6-ytyY0",
        "colab": {
          "base_uri": "https://localhost:8080/",
          "height": 283
        },
        "outputId": "a807dc40-88a1-4320-febd-6dd3ac2281cc"
      },
      "source": [
        "plt.plot(all_test[0],c='red',label='Model 1') # Model 1\n",
        "plt.plot(all_test[1],c='blue',label='Model 2') # Model 2\n",
        "plt.plot(all_test[2],c='green',label='Model 3') # model 3\n",
        "plt.plot(all_test[3],c='orange',label='Model 4') # model 4\n",
        "plt.plot(all_test[4],c='purple',label='Model 5') # model 5\n",
        "plt.plot(all_test[5],c='black',label='Model 6') # model 5\n",
        "\n",
        "plt.legend()"
      ],
      "execution_count": null,
      "outputs": [
        {
          "output_type": "execute_result",
          "data": {
            "text/plain": [
              "<matplotlib.legend.Legend at 0x7faf8a4a16d0>"
            ]
          },
          "metadata": {},
          "execution_count": 24
        },
        {
          "output_type": "display_data",
          "data": {
            "image/png": "[encoded data removed]",
            "text/plain": [
              "<Figure size 432x288 with 1 Axes>"
            ]
          },
          "metadata": {
            "needs_background": "light"
          }
        }
      ]
    },
    {
      "cell_type": "code",
      "metadata": {
        "id": "KeazM-Qi3pgf",
        "colab": {
          "base_uri": "https://localhost:8080/",
          "height": 283
        },
        "outputId": "de5fb518-3ace-4562-e01f-c13f18482437"
      },
      "source": [
        "plt.plot(all_train[0],c='red',label='Model 1')\n",
        "plt.plot(all_train[1],c='blue',label='Model 2')\n",
        "plt.plot(all_train[2],c='green',label='Model 3')\n",
        "plt.plot(all_train[3],c='orange',label='Model 4')\n",
        "plt.plot(all_train[4],c='purple',label='Model 5')"
      ],
      "execution_count": null,
      "outputs": [
        {
          "output_type": "execute_result",
          "data": {
            "text/plain": [
              "[<matplotlib.lines.Line2D at 0x7faf89f44050>]"
            ]
          },
          "metadata": {},
          "execution_count": 25
        },
        {
          "output_type": "display_data",
          "data": {
            "image/png": "[encoded data removed]",
            "text/plain": [
              "<Figure size 432x288 with 1 Axes>"
            ]
          },
          "metadata": {
            "needs_background": "light"
          }
        }
      ]
    },
    {
      "cell_type": "code",
      "metadata": {
        "id": "5hGZ0NT6H5MZ",
        "colab": {
          "base_uri": "https://localhost:8080/",
          "height": 283
        },
        "outputId": "22bdf518-5125-440e-837e-6bbeaa96fc43"
      },
      "source": [
        "plt.plot(all_time[0],c='red',label='Model 1')\n",
        "plt.plot(all_time[1],c='blue',label='Model 2')\n",
        "plt.plot(all_time[2],c='green',label='Model 3')\n",
        "plt.plot(all_time[3],c='orange',label='Model 4')\n",
        "plt.plot(all_time[4],c='purple',label='Model 5')"
      ],
      "execution_count": null,
      "outputs": [
        {
          "output_type": "execute_result",
          "data": {
            "text/plain": [
              "[<matplotlib.lines.Line2D at 0x7faf89ec4d10>]"
            ]
          },
          "metadata": {},
          "execution_count": 26
        },
        {
          "output_type": "display_data",
          "data": {
            "image/png": "[encoded data removed]",
            "text/plain": [
              "<Figure size 432x288 with 1 Axes>"
            ]
          },
          "metadata": {
            "needs_background": "light"
          }
        }
      ]
    },
    {
      "cell_type": "code",
      "metadata": {
        "id": "L2jariBM9k3J",
        "colab": {
          "base_uri": "https://localhost:8080/",
          "height": 283
        },
        "outputId": "16361f54-ca20-4f5e-a496-41a180b94115"
      },
      "source": [
        "plt.plot(all_test[0])\n",
        "plt.plot(all_train[0])"
      ],
      "execution_count": null,
      "outputs": [
        {
          "output_type": "execute_result",
          "data": {
            "text/plain": [
              "[<matplotlib.lines.Line2D at 0x7faf89e34b90>]"
            ]
          },
          "metadata": {},
          "execution_count": 27
        },
        {
          "output_type": "display_data",
          "data": {
            "image/png": "[encoded data removed]",
            "text/plain": [
              "<Figure size 432x288 with 1 Axes>"
            ]
          },
          "metadata": {
            "needs_background": "light"
          }
        }
      ]
    },
    {
      "cell_type": "code",
      "metadata": {
        "id": "AwKp7xYQjQsB"
      },
      "source": [
        "import pandas as pd"
      ],
      "execution_count": null,
      "outputs": []
    },
    {
      "cell_type": "code",
      "metadata": {
        "id": "OB8XQqWwjUiR"
      },
      "source": [
        "pd.DataFrame(all_test).to_csv(\"save_accuracy_test.csv\",index=False)\n",
        "pd.DataFrame(all_train).to_csv(\"save_accuracy_train.csv\",index=False)\n",
        "pd.DataFrame(all_time).to_csv(\"save_time_train.csv\",index=False)"
      ],
      "execution_count": null,
      "outputs": []
    },
    {
      "cell_type": "code",
      "metadata": {
        "id": "GXDxviuEl6DL"
      },
      "source": [],
      "execution_count": null,
      "outputs": []
    }
  ]
}